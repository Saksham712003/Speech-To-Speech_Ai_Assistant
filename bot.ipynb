{
 "cells": [
  {
   "cell_type": "code",
   "execution_count": 26,
   "metadata": {},
   "outputs": [
    {
     "name": "stderr",
     "output_type": "stream",
     "text": [
      "ERROR: Could not find a version that satisfies the requirement opencv (from versions: none)\n",
      "ERROR: No matching distribution found for opencv\n"
     ]
    }
   ],
   "source": [
    "! pip install opencv"
   ]
  },
  {
   "cell_type": "code",
   "execution_count": 27,
   "metadata": {},
   "outputs": [
    {
     "name": "stdout",
     "output_type": "stream",
     "text": [
      "Requirement already satisfied: replicate in c:\\python311\\lib\\site-packages (0.31.0)\n",
      "Requirement already satisfied: httpx<1,>=0.21.0 in c:\\python311\\lib\\site-packages (from replicate) (0.27.0)\n",
      "Requirement already satisfied: packaging in c:\\python311\\lib\\site-packages (from replicate) (24.1)\n",
      "Requirement already satisfied: pydantic>1.10.7 in c:\\python311\\lib\\site-packages (from replicate) (2.3.0)\n",
      "Requirement already satisfied: typing-extensions>=4.5.0 in c:\\python311\\lib\\site-packages (from replicate) (4.7.1)\n",
      "Requirement already satisfied: anyio in c:\\python311\\lib\\site-packages (from httpx<1,>=0.21.0->replicate) (4.4.0)\n",
      "Requirement already satisfied: certifi in c:\\python311\\lib\\site-packages (from httpx<1,>=0.21.0->replicate) (2023.7.22)\n",
      "Requirement already satisfied: httpcore==1.* in c:\\python311\\lib\\site-packages (from httpx<1,>=0.21.0->replicate) (1.0.5)\n",
      "Requirement already satisfied: idna in c:\\python311\\lib\\site-packages (from httpx<1,>=0.21.0->replicate) (2.10)\n",
      "Requirement already satisfied: sniffio in c:\\python311\\lib\\site-packages (from httpx<1,>=0.21.0->replicate) (1.3.1)\n",
      "Requirement already satisfied: h11<0.15,>=0.13 in c:\\python311\\lib\\site-packages (from httpcore==1.*->httpx<1,>=0.21.0->replicate) (0.14.0)\n",
      "Requirement already satisfied: annotated-types>=0.4.0 in c:\\python311\\lib\\site-packages (from pydantic>1.10.7->replicate) (0.5.0)\n",
      "Requirement already satisfied: pydantic-core==2.6.3 in c:\\python311\\lib\\site-packages (from pydantic>1.10.7->replicate) (2.6.3)\n",
      "Requirement already satisfied: speechRecognition in c:\\python311\\lib\\site-packages (3.10.1)\n",
      "Requirement already satisfied: requests>=2.26.0 in c:\\python311\\lib\\site-packages (from speechRecognition) (2.31.0)\n",
      "Requirement already satisfied: typing-extensions in c:\\python311\\lib\\site-packages (from speechRecognition) (4.7.1)\n",
      "Requirement already satisfied: charset-normalizer<4,>=2 in c:\\python311\\lib\\site-packages (from requests>=2.26.0->speechRecognition) (3.2.0)\n",
      "Requirement already satisfied: idna<4,>=2.5 in c:\\python311\\lib\\site-packages (from requests>=2.26.0->speechRecognition) (2.10)\n",
      "Requirement already satisfied: urllib3<3,>=1.21.1 in c:\\python311\\lib\\site-packages (from requests>=2.26.0->speechRecognition) (2.0.4)\n",
      "Requirement already satisfied: certifi>=2017.4.17 in c:\\python311\\lib\\site-packages (from requests>=2.26.0->speechRecognition) (2023.7.22)\n"
     ]
    }
   ],
   "source": [
    "! pip install replicate\n",
    "! pip install speechRecognition"
   ]
  },
  {
   "cell_type": "code",
   "execution_count": 28,
   "metadata": {},
   "outputs": [],
   "source": [
    "import os\n",
    "import pyttsx3\n",
    "import datetime\n",
    "import speech_recognition as sr\n",
    "import wikipedia\n",
    "import cv2\n"
   ]
  },
  {
   "cell_type": "code",
   "execution_count": 31,
   "metadata": {},
   "outputs": [
    {
     "name": "stdout",
     "output_type": "stream",
     "text": [
      "Listening....\n",
      "Recognizing...\n",
      "User said: what is machine learning\n"
     ]
    },
    {
     "ename": "NameError",
     "evalue": "name 'replicate' is not defined",
     "output_type": "error",
     "traceback": [
      "\u001b[1;31m---------------------------------------------------------------------------\u001b[0m",
      "\u001b[1;31mNameError\u001b[0m                                 Traceback (most recent call last)",
      "Cell \u001b[1;32mIn[31], line 33\u001b[0m\n\u001b[0;32m     31\u001b[0m video\u001b[38;5;241m.\u001b[39mrelease()\n\u001b[0;32m     32\u001b[0m cv2\u001b[38;5;241m.\u001b[39mdestroyAllWindows()\n\u001b[1;32m---> 33\u001b[0m api \u001b[38;5;241m=\u001b[39m \u001b[43mreplicate\u001b[49m\u001b[38;5;241m.\u001b[39mClient(api_token\u001b[38;5;241m=\u001b[39m\u001b[38;5;124m\"\u001b[39m\u001b[38;5;124mr8_cUjo3yIwrflpqDQcYcUjBwM0TEO37a938B4NH\u001b[39m\u001b[38;5;124m\"\u001b[39m)\n\u001b[0;32m     34\u001b[0m output \u001b[38;5;241m=\u001b[39m api\u001b[38;5;241m.\u001b[39mrun(\n\u001b[0;32m     35\u001b[0m     \u001b[38;5;124m\"\u001b[39m\u001b[38;5;124mmeta/llama-2-70b-chat:02e509c789964a7ea8736978a43525956ef40397be9033abf9fd2badfe68c9e3\u001b[39m\u001b[38;5;124m\"\u001b[39m,\n\u001b[0;32m     36\u001b[0m         \u001b[38;5;28minput\u001b[39m\u001b[38;5;241m=\u001b[39m{\u001b[38;5;124m\"\u001b[39m\u001b[38;5;124mprompt\u001b[39m\u001b[38;5;124m\"\u001b[39m: prompt}\n\u001b[0;32m     37\u001b[0m     )\n\u001b[0;32m     38\u001b[0m full_response\u001b[38;5;241m=\u001b[39m\u001b[38;5;124m\"\u001b[39m\u001b[38;5;124m\"\u001b[39m\n",
      "\u001b[1;31mNameError\u001b[0m: name 'replicate' is not defined"
     ]
    }
   ],
   "source": [
    "engine = pyttsx3.init(\"sapi5\")\n",
    "voices = engine.getProperty(\"voices\")\n",
    "engine.setProperty(\"voice\", voices[0].id)\n",
    "\n",
    "def speak(audio):\n",
    "    engine.say(audio)\n",
    "    engine.runAndWait()\n",
    "def takecommand():\n",
    "    r=sr.Recognizer()\n",
    "    with sr.Microphone() as source:\n",
    "        print(\"Listening....\")\n",
    "        r.pause_threshold=1\n",
    "        audio=r.listen(source)\n",
    "    try:\n",
    "        print(\"Recognizing...\")\n",
    "        query=r.recognize_google(audio, language=\"en-in\")\n",
    "        print(\"User said:\",query)\n",
    "    except Exception as e:\n",
    "        print(\"say it Again...\")\n",
    "        return \"None\"\n",
    "    return query\n",
    "video=cv2.VideoCapture(0)\n",
    "while True:\n",
    "    r , video_data=video.read()\n",
    "    cv2.imshow(\"video_live\",video_data)\n",
    "    if cv2.waitKey(1)==ord(\"a\"):\n",
    "        break\n",
    "    prompt=takecommand().lower()\n",
    "    if prompt:\n",
    "        break\n",
    "video.release()\n",
    "cv2.destroyAllWindows()\n",
    "api = replicate.Client(api_token=\"r8_cUjo3yIwrflpqDQcYcUjBwM0TEO37a938B4NH\")\n",
    "output = api.run(\n",
    "    \"meta/llama-2-70b-chat:02e509c789964a7ea8736978a43525956ef40397be9033abf9fd2badfe68c9e3\",\n",
    "        input={\"prompt\": prompt}\n",
    "    )\n",
    "full_response=\"\"\n",
    "for item in output:\n",
    "    full_response+=item\n",
    "print(full_response)\n",
    "speak(full_response)"
   ]
  },
  {
   "cell_type": "code",
   "execution_count": null,
   "metadata": {},
   "outputs": [],
   "source": []
  }
 ],
 "metadata": {
  "kernelspec": {
   "display_name": "Python 3",
   "language": "python",
   "name": "python3"
  },
  "language_info": {
   "codemirror_mode": {
    "name": "ipython",
    "version": 3
   },
   "file_extension": ".py",
   "mimetype": "text/x-python",
   "name": "python",
   "nbconvert_exporter": "python",
   "pygments_lexer": "ipython3",
   "version": "3.11.2"
  }
 },
 "nbformat": 4,
 "nbformat_minor": 2
}
